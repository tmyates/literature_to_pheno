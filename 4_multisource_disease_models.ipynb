{
 "cells": [
  {
   "cell_type": "code",
   "execution_count": null,
   "metadata": {
    "ExecuteTime": {
     "end_time": "2022-01-29T09:41:51.174236Z",
     "start_time": "2022-01-29T09:41:47.805812Z"
    }
   },
   "outputs": [],
   "source": [
    "import pandas as pd\n",
    "import pickle\n",
    "import re\n",
    "import numpy as np\n"
   ]
  },
  {
   "cell_type": "code",
   "execution_count": null,
   "metadata": {
    "ExecuteTime": {
     "end_time": "2022-01-29T09:42:26.051142Z",
     "start_time": "2022-01-29T09:42:25.923800Z"
    }
   },
   "outputs": [],
   "source": [
    "# read in ddd data - pandas doesn't like reading in file without alteration\n",
    "ddd_summary = pd.read_csv('path_to_ddd_summary_counts.tsv', header=None, sep='\\n')\n",
    "ddd_summary = ddd_summary[0].str.split('\\t', expand=True)\n",
    "ddd_summary = ddd_summary.applymap(lambda x: x.replace('\"', '') if (isinstance(x, str)) else x)\n",
    "ddd_summary = ddd_summary.rename(columns=ddd_summary.iloc[0]).drop(ddd_summary.index[0])\n",
    "ddd_summary = ddd_summary.applymap(lambda x: x.replace('_', ':') if (isinstance(x, str)) else x)\n",
    "# remove trailing semicolon\n",
    "ddd_summary['HPO_i,count_i;'] = ddd_summary.apply(lambda x: x['HPO_i,count_i;'][:-1], axis = 1)\n",
    "\n",
    "ddd_summary['no_probands'] = [int(i) for i in ddd_summary['no_probands']]\n",
    "\n",
    "\n",
    "splt_lst = []\n",
    "for h in ddd_summary['HPO_i,count_i;']:\n",
    "    k = [item.split(\",\") for item in h.split(\";\")]\n",
    "    l = [(i[0], int(i[1])) for i in k]\n",
    "    splt_lst.append((l))\n",
    "\n",
    "ddd_summary['hpo_count_list'] = splt_lst\n",
    "\n",
    "ddd_summary = ddd_summary.drop(columns=['HPO_i,count_i;'])"
   ]
  },
  {
   "cell_type": "code",
   "execution_count": null,
   "metadata": {
    "ExecuteTime": {
     "end_time": "2022-01-29T09:42:31.856392Z",
     "start_time": "2022-01-29T09:42:31.636194Z"
    }
   },
   "outputs": [],
   "source": [
    "hp_df = pickle.load(open('path_to_hp_annotated_df.p','rb'))\n",
    "hp_meanfreq_dict = {'HP:0040281':0.895, 'HP:0040282':0.545, 'HP:0040283':0.17, 'HP:0040284':0.025}\n",
    "hp_df['hp_meanfreq'] = hp_df['Frequency-HPO'].map(hp_meanfreq_dict, na_action='ignore')"
   ]
  },
  {
   "cell_type": "code",
   "execution_count": null,
   "metadata": {
    "ExecuteTime": {
     "end_time": "2022-01-29T09:42:35.605275Z",
     "start_time": "2022-01-29T09:42:35.354195Z"
    }
   },
   "outputs": [],
   "source": [
    "# download from orphadata\n",
    "or_df = pickle.load(open('orpha_df_genes.p','rb'))\n",
    "\n",
    "# previously generated disease models\n",
    "g2p_df_full = pickle.load(open('path_to_g2p_df.p','rb'))\n",
    "\n",
    "# orphacode to mim mappings\n",
    "or_mim_map = pickle.load(open('orph_mim_map.p','rb'))\n",
    "or_mim_map = or_mim_map.astype('int64')\n",
    "\n",
    "g2p_df = g2p_df_full.merge(or_mim_map,how='left',left_on='disease mim',right_on='OMIM')"
   ]
  },
  {
   "cell_type": "code",
   "execution_count": null,
   "metadata": {
    "ExecuteTime": {
     "end_time": "2022-01-29T09:42:53.523319Z",
     "start_time": "2022-01-29T09:42:53.491823Z"
    }
   },
   "outputs": [],
   "source": [
    "hp_dis = list(set(hp_df['disease-ID for link']))"
   ]
  },
  {
   "cell_type": "code",
   "execution_count": null,
   "metadata": {
    "ExecuteTime": {
     "end_time": "2022-01-29T09:44:33.162803Z",
     "start_time": "2022-01-29T09:42:55.565921Z"
    }
   },
   "outputs": [],
   "source": [
    "hp_models = []\n",
    "for dis in hp_dis:\n",
    "    hp_mod_df = hp_df[hp_df['disease-ID for link']== dis]\n",
    "    hp_mod = list(zip(hp_mod_df['HPO-Term-ID'], hp_mod_df['hp_meanfreq']))\n",
    "    hp_models.append({'hp_dis':dis, 'hp_mean_model':hp_mod})\n",
    "\n",
    "hpoa_df = pd.DataFrame(hp_models)"
   ]
  },
  {
   "cell_type": "code",
   "execution_count": null,
   "metadata": {
    "ExecuteTime": {
     "end_time": "2022-01-29T09:44:33.480934Z",
     "start_time": "2022-01-29T09:44:33.383076Z"
    }
   },
   "outputs": [],
   "source": [
    "g2p_mim_or = g2p_df.copy()\n",
    "\n",
    "hp_mim_df = hpoa_df[hpoa_df['hp_dis'].str.startswith('OMIM')].copy()\n",
    "hp_orph_df = hpoa_df[hpoa_df['hp_dis'].str.startswith('ORPHA')].copy()\n",
    "\n",
    "hp_mim_df['mim'] = [re.sub('OMIM:','',i) for i in hp_mim_df['hp_dis']]\n",
    "hp_mim_df['mim'] = hp_mim_df['mim'].astype('int64')\n",
    "hp_orph_df['orpha'] = [re.sub('ORPHA:','',i) for i in hp_orph_df['hp_dis']]\n",
    "hp_orph_df['orpha'] = hp_orph_df['orpha'].astype('int64')\n",
    "\n",
    "hp_mim_df = hp_mim_df.rename(columns={'hp_mean_model':'hp_mim_mean_model'})\n",
    "hp_orph_df = hp_orph_df.rename(columns={'hp_mean_model':'hp_orph_mean_model'})"
   ]
  },
  {
   "cell_type": "code",
   "execution_count": null,
   "metadata": {
    "ExecuteTime": {
     "end_time": "2022-01-29T09:46:37.298041Z",
     "start_time": "2022-01-29T09:46:37.284155Z"
    }
   },
   "outputs": [],
   "source": [
    "hp_mim_df['len_model'] = [len(i) for i in hp_mim_df['hp_mim_mean_model']]"
   ]
  },
  {
   "cell_type": "code",
   "execution_count": null,
   "metadata": {
    "ExecuteTime": {
     "end_time": "2022-01-23T10:37:11.121822Z",
     "start_time": "2022-01-23T10:37:11.042640Z"
    }
   },
   "outputs": [],
   "source": [
    "g2p_mim_or = g2p_mim_or.merge(hp_mim_df,how='left',left_on='disease mim',right_on='mim')"
   ]
  },
  {
   "cell_type": "code",
   "execution_count": null,
   "metadata": {
    "ExecuteTime": {
     "end_time": "2022-01-23T10:37:11.192559Z",
     "start_time": "2022-01-23T10:37:11.123147Z"
    }
   },
   "outputs": [],
   "source": [
    "g2p_mim_or = g2p_mim_or.merge(hp_orph_df,how='left',left_on='Orphanet',right_on='orpha')"
   ]
  },
  {
   "cell_type": "code",
   "execution_count": null,
   "metadata": {
    "ExecuteTime": {
     "end_time": "2022-01-23T10:37:11.238545Z",
     "start_time": "2022-01-23T10:37:11.198095Z"
    }
   },
   "outputs": [],
   "source": [
    "g2p_mim_or = g2p_mim_or.drop(columns= ['hp_dis_x','mim', 'hp_dis_y','orpha'])"
   ]
  },
  {
   "cell_type": "code",
   "execution_count": null,
   "metadata": {
    "ExecuteTime": {
     "end_time": "2022-01-23T10:37:11.306196Z",
     "start_time": "2022-01-23T10:37:11.241736Z"
    }
   },
   "outputs": [],
   "source": [
    "g2p_mim_or = g2p_mim_or.merge(ddd_summary, how='left', left_on='gene symbol', right_on='gene')\n",
    "g2p_mim_or = g2p_mim_or.rename(columns={'no_probands':'ddd_probands','hpo_count_list':'ddd_hpo'})"
   ]
  },
  {
   "cell_type": "code",
   "execution_count": null,
   "metadata": {
    "ExecuteTime": {
     "end_time": "2022-01-23T10:37:12.225568Z",
     "start_time": "2022-01-23T10:37:12.147336Z"
    }
   },
   "outputs": [],
   "source": [
    "pickle.dump(g2p_mim_or,open('g2p_mim_orph.p','wb'))"
   ]
  },
  {
   "cell_type": "code",
   "execution_count": null,
   "metadata": {},
   "outputs": [],
   "source": []
  }
 ],
 "metadata": {
  "kernelspec": {
   "display_name": "Python 3",
   "language": "python",
   "name": "python3"
  },
  "language_info": {
   "codemirror_mode": {
    "name": "ipython",
    "version": 3
   },
   "file_extension": ".py",
   "mimetype": "text/x-python",
   "name": "python",
   "nbconvert_exporter": "python",
   "pygments_lexer": "ipython3",
   "version": "3.7.3"
  },
  "toc": {
   "base_numbering": 1,
   "nav_menu": {},
   "number_sections": true,
   "sideBar": true,
   "skip_h1_title": false,
   "title_cell": "Table of Contents",
   "title_sidebar": "Contents",
   "toc_cell": false,
   "toc_position": {},
   "toc_section_display": true,
   "toc_window_display": false
  }
 },
 "nbformat": 4,
 "nbformat_minor": 4
}
