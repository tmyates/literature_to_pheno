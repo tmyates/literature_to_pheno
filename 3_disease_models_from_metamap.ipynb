{
 "cells": [
  {
   "cell_type": "code",
   "execution_count": null,
   "metadata": {
    "ExecuteTime": {
     "end_time": "2021-10-13T06:38:26.586512Z",
     "start_time": "2021-10-13T06:38:26.355664Z"
    }
   },
   "outputs": [],
   "source": [
    "import pandas as pd\n",
    "import pickle\n",
    "from pathlib import Path\n",
    "from collections import Counter"
   ]
  },
  {
   "cell_type": "code",
   "execution_count": null,
   "metadata": {
    "ExecuteTime": {
     "end_time": "2021-10-13T06:38:28.826111Z",
     "start_time": "2021-10-13T06:38:26.587917Z"
    }
   },
   "outputs": [],
   "source": [
    "g2p_path = 'path_to_g2p_entries.csv'\n",
    "g2p_df = pd.read_csv(g2p_path)\n",
    "g2p_df = g2p_df.drop(columns=['phenotypes', 'organ specificity list', 'panel',\n",
    "       'prev symbols', 'gene disease pair entry date'])\n",
    "\n",
    "ret_df = pickle.load(open('ret_mm_df.p','rb'))"
   ]
  },
  {
   "cell_type": "code",
   "execution_count": null,
   "metadata": {
    "ExecuteTime": {
     "end_time": "2021-10-13T06:38:30.916482Z",
     "start_time": "2021-10-13T06:38:28.827735Z"
    }
   },
   "outputs": [],
   "source": [
    "def model_per_g2p_entry(g2p_df, retrieval_df_mm_processed, retrieval_df_model_series_name):\n",
    "    g2p_model_list = []\n",
    "    for pmid_str in g2p_df['pmids']:\n",
    "        try:\n",
    "            pmid_list = pmid_str.split(';')\n",
    "            g2p_from_retrieval_df = retrieval_df_mm_processed[retrieval_df_mm_processed['pmid'].isin(pmid_list)]\n",
    "            all_freq = [i for j in g2p_from_retrieval_df[retrieval_df_model_series_name] for i in j]\n",
    "            exp_freq = [i for hp, n in all_freq for i in [hp] * n]\n",
    "            total_hp = Counter(exp_freq).most_common()\n",
    "\n",
    "            g2p_model_list.append(total_hp)\n",
    "        \n",
    "        except:\n",
    "            g2p_model_list.append(None)\n",
    "    \n",
    "    return g2p_model_list"
   ]
  },
  {
   "cell_type": "code",
   "execution_count": null,
   "metadata": {
    "ExecuteTime": {
     "end_time": "2021-10-13T06:38:34.361757Z",
     "start_time": "2021-10-13T06:38:30.918248Z"
    }
   },
   "outputs": [],
   "source": [
    "g2p_df['tiab_hpo'] = model_per_g2p_entry(g2p_df,ret_df,'tiab_hpo')\n",
    "g2p_df['content_hpo'] = model_per_g2p_entry(g2p_df,ret_df,'content_hpo')"
   ]
  },
  {
   "cell_type": "code",
   "execution_count": null,
   "metadata": {
    "ExecuteTime": {
     "end_time": "2021-10-13T06:38:38.635715Z",
     "start_time": "2021-10-13T06:38:36.358070Z"
    }
   },
   "outputs": [],
   "source": [
    "pickle.dump(g2p_df,open('g2p_df_mm.p','wb'))"
   ]
  },
  {
   "cell_type": "code",
   "execution_count": null,
   "metadata": {},
   "outputs": [],
   "source": []
  }
 ],
 "metadata": {
  "kernelspec": {
   "display_name": "Python 3",
   "language": "python",
   "name": "python3"
  },
  "language_info": {
   "codemirror_mode": {
    "name": "ipython",
    "version": 3
   },
   "file_extension": ".py",
   "mimetype": "text/x-python",
   "name": "python",
   "nbconvert_exporter": "python",
   "pygments_lexer": "ipython3",
   "version": "3.7.3"
  },
  "toc": {
   "base_numbering": 1,
   "nav_menu": {},
   "number_sections": true,
   "sideBar": true,
   "skip_h1_title": false,
   "title_cell": "Table of Contents",
   "title_sidebar": "Contents",
   "toc_cell": false,
   "toc_position": {},
   "toc_section_display": true,
   "toc_window_display": false
  }
 },
 "nbformat": 4,
 "nbformat_minor": 4
}
